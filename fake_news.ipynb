{
 "cells": [
  {
   "cell_type": "markdown",
   "id": "b8c7f528-e6dc-4673-88cf-c46bc40e470c",
   "metadata": {},
   "source": [
    "### FAKE NEWS DETECTION ###"
   ]
  },
  {
   "cell_type": "markdown",
   "id": "d7ad3e07-29fb-4729-ae3f-c3215c71244a",
   "metadata": {},
   "source": [
    "## IMPORT LIBRARIES "
   ]
  },
  {
   "cell_type": "code",
   "execution_count": 35,
   "id": "f6c2bc18-eebf-474b-b35a-d63b85c4a77c",
   "metadata": {},
   "outputs": [],
   "source": [
    "import pandas as pd\n",
    "import numpy as np\n",
    "import matplotlib.pyplot as plt\n",
    "\n",
    "# NLP libraries to clean the text data\n",
    "from nltk.corpus import stopwords\n",
    "from nltk.stem.porter import PorterStemmer\n",
    "import re\n",
    "\n",
    "# Vectorization technique TF-IDF\n",
    "from sklearn.feature_extraction.text import TfidfVectorizer\n",
    "\n",
    "# For Splitting the dataset\n",
    "from sklearn.model_selection import train_test_split\n",
    "\n",
    "# Model libraries\n",
    "from sklearn.linear_model import LogisticRegression\n",
    "from sklearn.svm import SVC\n",
    "from sklearn.ensemble import RandomForestClassifier,VotingClassifier\n",
    "#Accuracy measuring library\n",
    "from sklearn.metrics import accuracy_score,precision_score,recall_score"
   ]
  },
  {
   "cell_type": "markdown",
   "id": "88d2063e-d47b-492f-85c5-9c4e57ae926e",
   "metadata": {},
   "source": [
    "## Loading the Data "
   ]
  },
  {
   "cell_type": "code",
   "execution_count": 5,
   "id": "2bda99ed-4173-4cea-a851-b62eedab8c5f",
   "metadata": {},
   "outputs": [],
   "source": [
    "data = pd.read_csv(\"data.csv\")"
   ]
  },
  {
   "cell_type": "code",
   "execution_count": 6,
   "id": "7189d3c7-8234-47d0-9070-b108d42807ce",
   "metadata": {},
   "outputs": [
    {
     "data": {
      "text/plain": [
       "(4009, 4)"
      ]
     },
     "execution_count": 6,
     "metadata": {},
     "output_type": "execute_result"
    }
   ],
   "source": [
    "data.shape"
   ]
  },
  {
   "cell_type": "code",
   "execution_count": 7,
   "id": "83ee6798-9111-4d33-8630-01cbd772579d",
   "metadata": {},
   "outputs": [
    {
     "data": {
      "text/html": [
       "<div>\n",
       "<style scoped>\n",
       "    .dataframe tbody tr th:only-of-type {\n",
       "        vertical-align: middle;\n",
       "    }\n",
       "\n",
       "    .dataframe tbody tr th {\n",
       "        vertical-align: top;\n",
       "    }\n",
       "\n",
       "    .dataframe thead th {\n",
       "        text-align: right;\n",
       "    }\n",
       "</style>\n",
       "<table border=\"1\" class=\"dataframe\">\n",
       "  <thead>\n",
       "    <tr style=\"text-align: right;\">\n",
       "      <th></th>\n",
       "      <th>URLs</th>\n",
       "      <th>Headline</th>\n",
       "      <th>Body</th>\n",
       "      <th>Label</th>\n",
       "    </tr>\n",
       "  </thead>\n",
       "  <tbody>\n",
       "    <tr>\n",
       "      <th>0</th>\n",
       "      <td>http://www.bbc.com/news/world-us-canada-414191...</td>\n",
       "      <td>Four ways Bob Corker skewered Donald Trump</td>\n",
       "      <td>Image copyright Getty Images\\nOn Sunday mornin...</td>\n",
       "      <td>1</td>\n",
       "    </tr>\n",
       "    <tr>\n",
       "      <th>1</th>\n",
       "      <td>https://www.reuters.com/article/us-filmfestiva...</td>\n",
       "      <td>Linklater's war veteran comedy speaks to moder...</td>\n",
       "      <td>LONDON (Reuters) - “Last Flag Flying”, a comed...</td>\n",
       "      <td>1</td>\n",
       "    </tr>\n",
       "    <tr>\n",
       "      <th>2</th>\n",
       "      <td>https://www.nytimes.com/2017/10/09/us/politics...</td>\n",
       "      <td>Trump’s Fight With Corker Jeopardizes His Legi...</td>\n",
       "      <td>The feud broke into public view last week when...</td>\n",
       "      <td>1</td>\n",
       "    </tr>\n",
       "    <tr>\n",
       "      <th>3</th>\n",
       "      <td>https://www.reuters.com/article/us-mexico-oil-...</td>\n",
       "      <td>Egypt's Cheiron wins tie-up with Pemex for Mex...</td>\n",
       "      <td>MEXICO CITY (Reuters) - Egypt’s Cheiron Holdin...</td>\n",
       "      <td>1</td>\n",
       "    </tr>\n",
       "    <tr>\n",
       "      <th>4</th>\n",
       "      <td>http://www.cnn.com/videos/cnnmoney/2017/10/08/...</td>\n",
       "      <td>Jason Aldean opens 'SNL' with Vegas tribute</td>\n",
       "      <td>Country singer Jason Aldean, who was performin...</td>\n",
       "      <td>1</td>\n",
       "    </tr>\n",
       "  </tbody>\n",
       "</table>\n",
       "</div>"
      ],
      "text/plain": [
       "                                                URLs  \\\n",
       "0  http://www.bbc.com/news/world-us-canada-414191...   \n",
       "1  https://www.reuters.com/article/us-filmfestiva...   \n",
       "2  https://www.nytimes.com/2017/10/09/us/politics...   \n",
       "3  https://www.reuters.com/article/us-mexico-oil-...   \n",
       "4  http://www.cnn.com/videos/cnnmoney/2017/10/08/...   \n",
       "\n",
       "                                            Headline  \\\n",
       "0         Four ways Bob Corker skewered Donald Trump   \n",
       "1  Linklater's war veteran comedy speaks to moder...   \n",
       "2  Trump’s Fight With Corker Jeopardizes His Legi...   \n",
       "3  Egypt's Cheiron wins tie-up with Pemex for Mex...   \n",
       "4        Jason Aldean opens 'SNL' with Vegas tribute   \n",
       "\n",
       "                                                Body  Label  \n",
       "0  Image copyright Getty Images\\nOn Sunday mornin...      1  \n",
       "1  LONDON (Reuters) - “Last Flag Flying”, a comed...      1  \n",
       "2  The feud broke into public view last week when...      1  \n",
       "3  MEXICO CITY (Reuters) - Egypt’s Cheiron Holdin...      1  \n",
       "4  Country singer Jason Aldean, who was performin...      1  "
      ]
     },
     "execution_count": 7,
     "metadata": {},
     "output_type": "execute_result"
    }
   ],
   "source": [
    "data.head()"
   ]
  },
  {
   "cell_type": "code",
   "execution_count": 8,
   "id": "1be4981d-bb86-487e-b081-859261db8fcc",
   "metadata": {},
   "outputs": [
    {
     "data": {
      "text/plain": [
       "Index(['URLs', 'Headline', 'Body', 'Label'], dtype='object')"
      ]
     },
     "execution_count": 8,
     "metadata": {},
     "output_type": "execute_result"
    }
   ],
   "source": [
    "data.columns"
   ]
  },
  {
   "cell_type": "code",
   "execution_count": 9,
   "id": "499e598a-2be6-4eaf-9c53-af67f2f658c3",
   "metadata": {},
   "outputs": [
    {
     "data": {
      "text/plain": [
       "URLs         0\n",
       "Headline     0\n",
       "Body        21\n",
       "Label        0\n",
       "dtype: int64"
      ]
     },
     "execution_count": 9,
     "metadata": {},
     "output_type": "execute_result"
    }
   ],
   "source": [
    "data.isnull().sum()"
   ]
  },
  {
   "cell_type": "markdown",
   "id": "d1b043a0-b008-4ffd-a498-f421b6070d8e",
   "metadata": {},
   "source": [
    "### Data-Preprocessing "
   ]
  },
  {
   "cell_type": "code",
   "execution_count": 10,
   "id": "5988fb4a-5406-465c-a80a-fe48a2213d26",
   "metadata": {},
   "outputs": [],
   "source": [
    "df = data.copy()"
   ]
  },
  {
   "cell_type": "markdown",
   "id": "771efbd2-ca96-48b6-bd4a-6ed188d9c615",
   "metadata": {},
   "source": [
    "### Removing the null values "
   ]
  },
  {
   "cell_type": "code",
   "execution_count": 11,
   "id": "0af42818-5925-439d-a990-825e85349877",
   "metadata": {},
   "outputs": [],
   "source": [
    "df['Body'] = df['Body'].fillna('') "
   ]
  },
  {
   "cell_type": "code",
   "execution_count": 12,
   "id": "f452f20f-3355-44d0-a16f-0ce7593752bd",
   "metadata": {},
   "outputs": [
    {
     "data": {
      "text/plain": [
       "URLs        0\n",
       "Headline    0\n",
       "Body        0\n",
       "Label       0\n",
       "dtype: int64"
      ]
     },
     "execution_count": 12,
     "metadata": {},
     "output_type": "execute_result"
    }
   ],
   "source": [
    "df.isnull().sum()"
   ]
  },
  {
   "cell_type": "markdown",
   "id": "b7f5f183-883e-4700-8ac7-3c95632375d5",
   "metadata": {},
   "source": [
    "### Adding a new column"
   ]
  },
  {
   "cell_type": "code",
   "execution_count": 13,
   "id": "7d4b7a3a-7814-40ab-83a8-eae68df5a231",
   "metadata": {},
   "outputs": [],
   "source": [
    "df['News'] = df['Headline']+df['Body'] #combine heaadline +body"
   ]
  },
  {
   "cell_type": "code",
   "execution_count": 14,
   "id": "f07818b4-ae7f-4b7b-8882-13d326be9139",
   "metadata": {},
   "outputs": [
    {
     "data": {
      "text/html": [
       "<div>\n",
       "<style scoped>\n",
       "    .dataframe tbody tr th:only-of-type {\n",
       "        vertical-align: middle;\n",
       "    }\n",
       "\n",
       "    .dataframe tbody tr th {\n",
       "        vertical-align: top;\n",
       "    }\n",
       "\n",
       "    .dataframe thead th {\n",
       "        text-align: right;\n",
       "    }\n",
       "</style>\n",
       "<table border=\"1\" class=\"dataframe\">\n",
       "  <thead>\n",
       "    <tr style=\"text-align: right;\">\n",
       "      <th></th>\n",
       "      <th>URLs</th>\n",
       "      <th>Headline</th>\n",
       "      <th>Body</th>\n",
       "      <th>Label</th>\n",
       "      <th>News</th>\n",
       "    </tr>\n",
       "  </thead>\n",
       "  <tbody>\n",
       "    <tr>\n",
       "      <th>0</th>\n",
       "      <td>http://www.bbc.com/news/world-us-canada-414191...</td>\n",
       "      <td>Four ways Bob Corker skewered Donald Trump</td>\n",
       "      <td>Image copyright Getty Images\\nOn Sunday mornin...</td>\n",
       "      <td>1</td>\n",
       "      <td>Four ways Bob Corker skewered Donald TrumpImag...</td>\n",
       "    </tr>\n",
       "    <tr>\n",
       "      <th>1</th>\n",
       "      <td>https://www.reuters.com/article/us-filmfestiva...</td>\n",
       "      <td>Linklater's war veteran comedy speaks to moder...</td>\n",
       "      <td>LONDON (Reuters) - “Last Flag Flying”, a comed...</td>\n",
       "      <td>1</td>\n",
       "      <td>Linklater's war veteran comedy speaks to moder...</td>\n",
       "    </tr>\n",
       "    <tr>\n",
       "      <th>2</th>\n",
       "      <td>https://www.nytimes.com/2017/10/09/us/politics...</td>\n",
       "      <td>Trump’s Fight With Corker Jeopardizes His Legi...</td>\n",
       "      <td>The feud broke into public view last week when...</td>\n",
       "      <td>1</td>\n",
       "      <td>Trump’s Fight With Corker Jeopardizes His Legi...</td>\n",
       "    </tr>\n",
       "    <tr>\n",
       "      <th>3</th>\n",
       "      <td>https://www.reuters.com/article/us-mexico-oil-...</td>\n",
       "      <td>Egypt's Cheiron wins tie-up with Pemex for Mex...</td>\n",
       "      <td>MEXICO CITY (Reuters) - Egypt’s Cheiron Holdin...</td>\n",
       "      <td>1</td>\n",
       "      <td>Egypt's Cheiron wins tie-up with Pemex for Mex...</td>\n",
       "    </tr>\n",
       "    <tr>\n",
       "      <th>4</th>\n",
       "      <td>http://www.cnn.com/videos/cnnmoney/2017/10/08/...</td>\n",
       "      <td>Jason Aldean opens 'SNL' with Vegas tribute</td>\n",
       "      <td>Country singer Jason Aldean, who was performin...</td>\n",
       "      <td>1</td>\n",
       "      <td>Jason Aldean opens 'SNL' with Vegas tributeCou...</td>\n",
       "    </tr>\n",
       "  </tbody>\n",
       "</table>\n",
       "</div>"
      ],
      "text/plain": [
       "                                                URLs  \\\n",
       "0  http://www.bbc.com/news/world-us-canada-414191...   \n",
       "1  https://www.reuters.com/article/us-filmfestiva...   \n",
       "2  https://www.nytimes.com/2017/10/09/us/politics...   \n",
       "3  https://www.reuters.com/article/us-mexico-oil-...   \n",
       "4  http://www.cnn.com/videos/cnnmoney/2017/10/08/...   \n",
       "\n",
       "                                            Headline  \\\n",
       "0         Four ways Bob Corker skewered Donald Trump   \n",
       "1  Linklater's war veteran comedy speaks to moder...   \n",
       "2  Trump’s Fight With Corker Jeopardizes His Legi...   \n",
       "3  Egypt's Cheiron wins tie-up with Pemex for Mex...   \n",
       "4        Jason Aldean opens 'SNL' with Vegas tribute   \n",
       "\n",
       "                                                Body  Label  \\\n",
       "0  Image copyright Getty Images\\nOn Sunday mornin...      1   \n",
       "1  LONDON (Reuters) - “Last Flag Flying”, a comed...      1   \n",
       "2  The feud broke into public view last week when...      1   \n",
       "3  MEXICO CITY (Reuters) - Egypt’s Cheiron Holdin...      1   \n",
       "4  Country singer Jason Aldean, who was performin...      1   \n",
       "\n",
       "                                                News  \n",
       "0  Four ways Bob Corker skewered Donald TrumpImag...  \n",
       "1  Linklater's war veteran comedy speaks to moder...  \n",
       "2  Trump’s Fight With Corker Jeopardizes His Legi...  \n",
       "3  Egypt's Cheiron wins tie-up with Pemex for Mex...  \n",
       "4  Jason Aldean opens 'SNL' with Vegas tributeCou...  "
      ]
     },
     "execution_count": 14,
     "metadata": {},
     "output_type": "execute_result"
    }
   ],
   "source": [
    "df.head()"
   ]
  },
  {
   "cell_type": "code",
   "execution_count": 15,
   "id": "8f270d66-a595-49c2-8033-06adaa77ffd2",
   "metadata": {},
   "outputs": [
    {
     "data": {
      "text/plain": [
       "Index(['URLs', 'Headline', 'Body', 'Label', 'News'], dtype='object')"
      ]
     },
     "execution_count": 15,
     "metadata": {},
     "output_type": "execute_result"
    }
   ],
   "source": [
    "df.columns"
   ]
  },
  {
   "cell_type": "markdown",
   "id": "59216d8f-d940-4670-8479-80f159028b5f",
   "metadata": {},
   "source": [
    "### Drop features that are not needed"
   ]
  },
  {
   "cell_type": "code",
   "execution_count": 16,
   "id": "4e46e3f8-54b4-4039-84ee-4788405f251a",
   "metadata": {},
   "outputs": [],
   "source": [
    "features_dropped = ['URLs','Headline','Body']\n",
    "df = df.drop(features_dropped, axis =1)"
   ]
  },
  {
   "cell_type": "code",
   "execution_count": 17,
   "id": "3d9b503b-51d5-4ec8-add4-e8e000f9f564",
   "metadata": {},
   "outputs": [
    {
     "data": {
      "text/plain": [
       "Index(['Label', 'News'], dtype='object')"
      ]
     },
     "execution_count": 17,
     "metadata": {},
     "output_type": "execute_result"
    }
   ],
   "source": [
    "df.columns"
   ]
  },
  {
   "cell_type": "markdown",
   "id": "138a7611-6664-4719-8c42-53d5705cfb0c",
   "metadata": {},
   "source": [
    "### Text Processing "
   ]
  },
  {
   "cell_type": "code",
   "execution_count": 18,
   "id": "ad694f00-d9df-4d73-befb-d73787189665",
   "metadata": {},
   "outputs": [],
   "source": [
    "ps = PorterStemmer()\n",
    "def wordopt(text): \n",
    "    text = re.sub('[^a-zA-Z]', ' ',text)   #to remove symbols , stops words, steeming \n",
    "    text = text.lower()\n",
    "    text = text.split()\n",
    "    text = [ps.stem(word) for word in text if not word in stopwords.words('english')]\n",
    "    text = ' '.join(text)\n",
    "    return text"
   ]
  },
  {
   "cell_type": "code",
   "execution_count": 19,
   "id": "77fa1503-d0f0-41a1-8464-ea3ab80495da",
   "metadata": {},
   "outputs": [],
   "source": [
    "df['News'] = df['News'].apply(wordopt)"
   ]
  },
  {
   "cell_type": "code",
   "execution_count": 20,
   "id": "447711b3-c95c-4d9c-9d44-34a210cc328e",
   "metadata": {},
   "outputs": [
    {
     "data": {
      "text/html": [
       "<div>\n",
       "<style scoped>\n",
       "    .dataframe tbody tr th:only-of-type {\n",
       "        vertical-align: middle;\n",
       "    }\n",
       "\n",
       "    .dataframe tbody tr th {\n",
       "        vertical-align: top;\n",
       "    }\n",
       "\n",
       "    .dataframe thead th {\n",
       "        text-align: right;\n",
       "    }\n",
       "</style>\n",
       "<table border=\"1\" class=\"dataframe\">\n",
       "  <thead>\n",
       "    <tr style=\"text-align: right;\">\n",
       "      <th></th>\n",
       "      <th>Label</th>\n",
       "      <th>News</th>\n",
       "    </tr>\n",
       "  </thead>\n",
       "  <tbody>\n",
       "    <tr>\n",
       "      <th>0</th>\n",
       "      <td>1</td>\n",
       "      <td>four way bob corker skewer donald trumpimag co...</td>\n",
       "    </tr>\n",
       "    <tr>\n",
       "      <th>1</th>\n",
       "      <td>1</td>\n",
       "      <td>linklat war veteran comedi speak modern americ...</td>\n",
       "    </tr>\n",
       "    <tr>\n",
       "      <th>2</th>\n",
       "      <td>1</td>\n",
       "      <td>trump fight corker jeopard legisl agendath feu...</td>\n",
       "    </tr>\n",
       "    <tr>\n",
       "      <th>3</th>\n",
       "      <td>1</td>\n",
       "      <td>egypt cheiron win tie pemex mexican onshor oil...</td>\n",
       "    </tr>\n",
       "    <tr>\n",
       "      <th>4</th>\n",
       "      <td>1</td>\n",
       "      <td>jason aldean open snl vega tributecountri sing...</td>\n",
       "    </tr>\n",
       "  </tbody>\n",
       "</table>\n",
       "</div>"
      ],
      "text/plain": [
       "   Label                                               News\n",
       "0      1  four way bob corker skewer donald trumpimag co...\n",
       "1      1  linklat war veteran comedi speak modern americ...\n",
       "2      1  trump fight corker jeopard legisl agendath feu...\n",
       "3      1  egypt cheiron win tie pemex mexican onshor oil...\n",
       "4      1  jason aldean open snl vega tributecountri sing..."
      ]
     },
     "execution_count": 20,
     "metadata": {},
     "output_type": "execute_result"
    }
   ],
   "source": [
    "df.head()"
   ]
  },
  {
   "cell_type": "markdown",
   "id": "22adb53e-50a4-4870-b094-1b035a252f85",
   "metadata": {},
   "source": [
    "### Splitting Data set "
   ]
  },
  {
   "cell_type": "code",
   "execution_count": 21,
   "id": "69a9d3e9-1042-4459-a80f-7ca061bf3a9e",
   "metadata": {},
   "outputs": [],
   "source": [
    "X = df['News']\n",
    "Y = df['Label']\n",
    "#Split the data into training and test set\n",
    "x_train, x_test, y_train, y_test = train_test_split(X, Y, test_size=0.25)"
   ]
  },
  {
   "cell_type": "markdown",
   "id": "c43d43eb-aa1e-4cc4-b554-41022e68ee17",
   "metadata": {},
   "source": [
    "### vectorization \n",
    "### This is used to handle our text data, by converting it into vectors.\n"
   ]
  },
  {
   "cell_type": "code",
   "execution_count": 22,
   "id": "0d41646d-7e11-4900-bbbb-0c23e9bb1f2a",
   "metadata": {},
   "outputs": [],
   "source": [
    "vectorization = TfidfVectorizer()\n",
    "xv_train = vectorization.fit_transform(x_train)\n",
    "xv_test = vectorization.transform(x_test)\n"
   ]
  },
  {
   "cell_type": "markdown",
   "id": "bfb1fc84-1fc8-404e-b1e8-35b76f44fc6e",
   "metadata": {},
   "source": [
    "### Model Fitting\n",
    " will be fitting my data onto 3 classifications models\n",
    "\n",
    "Logistic Regression\n",
    ",SVM\n",
    ",RandomForestClassifier"
   ]
  },
  {
   "cell_type": "code",
   "execution_count": 41,
   "id": "a91374b0-aeed-40e0-82e2-d44fe9cb1fd5",
   "metadata": {},
   "outputs": [
    {
     "name": "stdout",
     "output_type": "stream",
     "text": [
      "Accuracy of LR model is  0.9680957128614157\n",
      "precision of LR model is  0.9482758620689655\n",
      "recall of LR model is  0.9821428571428571\n"
     ]
    }
   ],
   "source": [
    "#1. Logistic Regression - used because this model is best suited for binary classification\n",
    "LR_model = LogisticRegression()\n",
    "\n",
    "#Fitting training set to the model\n",
    "LR_model.fit(xv_train,y_train)\n",
    "\n",
    "#Predicting the test set results based on the model\n",
    "lr_y_pred = LR_model.predict(xv_test)\n",
    "\n",
    "#Calculate the accurracy of this model\n",
    "score = accuracy_score(y_test,lr_y_pred)\n",
    "score1= precision_score(y_test,lr_y_pred)\n",
    "score2= recall_score(y_test,lr_y_pred)\n",
    "\n",
    "print('Accuracy of LR model is ', score)\n",
    "print('precision of LR model is ', score1)\n",
    "print('recall of LR model is ', score2)"
   ]
  },
  {
   "cell_type": "code",
   "execution_count": 40,
   "id": "3a557257-d53a-4256-8b50-acb38aa8154b",
   "metadata": {},
   "outputs": [
    {
     "name": "stdout",
     "output_type": "stream",
     "text": [
      "Accuracy of SVM model is  0.9840478564307079\n",
      "precision of SVM model is  0.9736842105263158\n",
      "recall of SVM model is  0.9910714285714286\n"
     ]
    }
   ],
   "source": [
    "#2. Support Vector Machine(SVM) - SVM works relatively well when there is a clear margin of separation between classes.\n",
    "svm_model = SVC(kernel='linear')\n",
    "\n",
    "#Fitting training set to the model\n",
    "svm_model.fit(xv_train,y_train)\n",
    "\n",
    "#Predicting the test set results based on the model\n",
    "svm_y_pred = svm_model.predict(xv_test)\n",
    "\n",
    "#Calculate the accuracy score of this model\n",
    "score = accuracy_score(y_test,svm_y_pred)\n",
    "score1= precision_score(y_test,svm_y_pred)\n",
    "score2= recall_score(y_test,svm_y_pred)\n",
    "\n",
    "print('Accuracy of SVM model is ', score)\n",
    "print('precision of SVM model is ', score1)\n",
    "print('recall of SVM model is ', score2)"
   ]
  },
  {
   "cell_type": "code",
   "execution_count": 39,
   "id": "24144ddc-4ead-460e-9d97-ac715d269feb",
   "metadata": {},
   "outputs": [
    {
     "name": "stdout",
     "output_type": "stream",
     "text": [
      "Accuracy of RFC model is  0.9651046859421735\n",
      "precision of RFC model is  0.9347368421052632\n",
      "recall of RFC model is  0.9910714285714286\n"
     ]
    }
   ],
   "source": [
    "#3. Random Forest Classifier \n",
    "RFC_model = RandomForestClassifier(random_state=0)\n",
    "\n",
    "#Fitting training set to the model\n",
    "RFC_model.fit(xv_train, y_train)\n",
    "\n",
    "#Predicting the test set results based on the model\n",
    "rfc_y_pred = RFC_model.predict(xv_test)\n",
    "\n",
    "#Calculate the accuracy score of this model\n",
    "score = accuracy_score(y_test,rfc_y_pred)\n",
    "score1= precision_score(y_test,rfc_y_pred)\n",
    "score2= recall_score(y_test,rfc_y_pred)\n",
    "\n",
    "print('Accuracy of RFC model is ', score)\n",
    "print('precision of RFC model is ', score1)\n",
    "print('recall of RFC model is ', score2)"
   ]
  },
  {
   "cell_type": "code",
   "execution_count": 37,
   "id": "cefa71b8-7e0c-45ee-abcb-7147f9a6a779",
   "metadata": {},
   "outputs": [
    {
     "name": "stdout",
     "output_type": "stream",
     "text": [
      "Accuracy of vc model is  0.9780658025922233\n",
      "precision of vc model is  0.959051724137931\n",
      "recall of vc model is  0.9933035714285714\n"
     ]
    }
   ],
   "source": [
    "#4. Voting classifier\n",
    "vc_model=VotingClassifier([('clf1',LR_model),('clf2',RFC_model),('clf3',svm_model)])\n",
    "\n",
    "#Fitting training set to the model\n",
    "vc_model.fit(xv_train, y_train)\n",
    "\n",
    "#Predicting the test set results based on the model\n",
    "vc_y_pred = vc_model.predict(xv_test)\n",
    "\n",
    "#Calculate the accuracy score of this model\n",
    "score = accuracy_score(y_test,vc_y_pred)\n",
    "score1= precision_score(y_test,vc_y_pred)\n",
    "score2= recall_score(y_test,vc_y_pred)\n",
    "print('Accuracy of vc model is ', score)\n",
    "print('precision of vc model is ', score1)\n",
    "print('recall of vc model is ', score2)"
   ]
  },
  {
   "cell_type": "code",
   "execution_count": 38,
   "id": "1d4cda32-3102-417d-92ee-ee712b3f1b70",
   "metadata": {},
   "outputs": [
    {
     "name": "stdout",
     "output_type": "stream",
     "text": [
      "Accuracy of bgg model is  0.9521435692921236\n",
      "precision of bgg model is  0.9504504504504504\n",
      "recall of bgg model is  0.9419642857142857\n",
      "Accuracy of dt model is  0.9431704885343968\n",
      "precision of dt model is  0.9413092550790068\n",
      "recall of dt model is  0.9308035714285714\n"
     ]
    }
   ],
   "source": [
    "#5. Bagging classifier (decision trees)\n",
    "from sklearn.ensemble import BaggingClassifier\n",
    "from sklearn.tree import DecisionTreeClassifier\n",
    "dt_model=DecisionTreeClassifier()\n",
    "\n",
    "bgg_model=BaggingClassifier(DecisionTreeClassifier())\n",
    "\n",
    "#Fitting training set to the model\n",
    "bgg_model.fit(xv_train, y_train)\n",
    "dt_model.fit(xv_train, y_train)\n",
    "#Predicting the test set results based on the model\n",
    "bgg_y_pred = bgg_model.predict(xv_test)\n",
    "dt_y_pred=dt_model.predict(xv_test)\n",
    "#Calculate the accuracy score of this model\n",
    "score = accuracy_score(y_test,bgg_y_pred)\n",
    "score1= precision_score(y_test,bgg_y_pred)\n",
    "score2= recall_score(y_test,bgg_y_pred)\n",
    "\n",
    "score11 = accuracy_score(y_test,dt_y_pred)\n",
    "score12= precision_score(y_test,dt_y_pred)\n",
    "score13= recall_score(y_test,dt_y_pred)\n",
    "\n",
    "print('Accuracy of bgg model is ', score)\n",
    "print('precision of bgg model is ', score1)\n",
    "print('recall of bgg model is ', score2)\n",
    "\n",
    "print('Accuracy of dt model is ', score11)\n",
    "print('precision of dt model is ', score12)\n",
    "print('recall of dt model is ', score13)"
   ]
  },
  {
   "cell_type": "code",
   "execution_count": 36,
   "id": "e39c7f9a-168a-4205-9bea-66a964c8ba35",
   "metadata": {},
   "outputs": [
    {
     "name": "stdout",
     "output_type": "stream",
     "text": [
      "Accuracy of gbc model is  0.9710867397806581\n",
      "precision of gbc model is  0.9584245076586433\n",
      "recall of gbc model is  0.9776785714285714\n"
     ]
    }
   ],
   "source": [
    "#6. Gradient Boosting \n",
    "from sklearn.ensemble import GradientBoostingClassifier\n",
    "\n",
    "\n",
    "gbc_model=GradientBoostingClassifier()\n",
    "\n",
    "#Fitting training set to the model\n",
    "gbc_model.fit(xv_train, y_train)\n",
    "\n",
    "#Predicting the test set results based on the model\n",
    "gbc_y_pred = gbc_model.predict(xv_test)\n",
    "\n",
    "#Calculate the accuracy score of this model\n",
    "score = accuracy_score(y_test,gbc_y_pred)\n",
    "score1= precision_score(y_test,gbc_y_pred)\n",
    "score2= recall_score(y_test,gbc_y_pred)\n",
    "print('Accuracy of gbc model is ', score)\n",
    "print('precision of gbc model is ', score1)\n",
    "print('recall of gbc model is ', score2)"
   ]
  },
  {
   "cell_type": "code",
   "execution_count": null,
   "id": "05ef1664-eb9d-4ee2-a5b6-86436eaf19b6",
   "metadata": {},
   "outputs": [],
   "source": []
  }
 ],
 "metadata": {
  "kernelspec": {
   "display_name": "Python 3 (ipykernel)",
   "language": "python",
   "name": "python3"
  },
  "language_info": {
   "codemirror_mode": {
    "name": "ipython",
    "version": 3
   },
   "file_extension": ".py",
   "mimetype": "text/x-python",
   "name": "python",
   "nbconvert_exporter": "python",
   "pygments_lexer": "ipython3",
   "version": "3.12.2"
  }
 },
 "nbformat": 4,
 "nbformat_minor": 5
}
